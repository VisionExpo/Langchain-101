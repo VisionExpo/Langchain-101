{
 "cells": [
  {
   "cell_type": "markdown",
   "id": "e32fd1fd",
   "metadata": {},
   "source": [
    "# Vector Stores and Retrievers"
   ]
  },
  {
   "cell_type": "markdown",
   "id": "c231e170",
   "metadata": {},
   "source": [
    "Langchain vector store and retriver abstractions are designed to support retrival of data from vector databases and other sources for integration with LLM workflows."
   ]
  },
  {
   "cell_type": "markdown",
   "id": "7029fb36",
   "metadata": {},
   "source": [
    "we will cover the following topics:\n",
    "\n",
    "1. Documents\n",
    "2. Vector stores\n",
    "3. Retrievers"
   ]
  },
  {
   "cell_type": "code",
   "execution_count": 1,
   "id": "a71922da",
   "metadata": {},
   "outputs": [
    {
     "name": "stdout",
     "output_type": "stream",
     "text": [
      "Requirement already satisfied: langchain in c:\\vishal\\langchain-101\\venv\\lib\\site-packages (0.3.26)\n",
      "Requirement already satisfied: SQLAlchemy<3,>=1.4 in c:\\vishal\\langchain-101\\venv\\lib\\site-packages (from langchain) (2.0.41)\n",
      "Requirement already satisfied: langsmith>=0.1.17 in c:\\vishal\\langchain-101\\venv\\lib\\site-packages (from langchain) (0.4.4)\n",
      "Requirement already satisfied: pydantic<3.0.0,>=2.7.4 in c:\\vishal\\langchain-101\\venv\\lib\\site-packages (from langchain) (2.11.7)\n",
      "Requirement already satisfied: requests<3,>=2 in c:\\vishal\\langchain-101\\venv\\lib\\site-packages (from langchain) (2.32.4)\n",
      "Requirement already satisfied: langchain-text-splitters<1.0.0,>=0.3.8 in c:\\vishal\\langchain-101\\venv\\lib\\site-packages (from langchain) (0.3.8)\n",
      "Requirement already satisfied: langchain-core<1.0.0,>=0.3.66 in c:\\vishal\\langchain-101\\venv\\lib\\site-packages (from langchain) (0.3.68)\n",
      "Requirement already satisfied: PyYAML>=5.3 in c:\\vishal\\langchain-101\\venv\\lib\\site-packages (from langchain) (6.0.2)\n",
      "Requirement already satisfied: async-timeout<5.0.0,>=4.0.0 in c:\\vishal\\langchain-101\\venv\\lib\\site-packages (from langchain) (4.0.3)\n",
      "Requirement already satisfied: jsonpatch<2.0,>=1.33 in c:\\vishal\\langchain-101\\venv\\lib\\site-packages (from langchain-core<1.0.0,>=0.3.66->langchain) (1.33)\n",
      "Requirement already satisfied: packaging<25,>=23.2 in c:\\vishal\\langchain-101\\venv\\lib\\site-packages (from langchain-core<1.0.0,>=0.3.66->langchain) (24.2)\n",
      "Requirement already satisfied: tenacity!=8.4.0,<10.0.0,>=8.1.0 in c:\\vishal\\langchain-101\\venv\\lib\\site-packages (from langchain-core<1.0.0,>=0.3.66->langchain) (9.1.2)\n",
      "Requirement already satisfied: typing-extensions>=4.7 in c:\\vishal\\langchain-101\\venv\\lib\\site-packages (from langchain-core<1.0.0,>=0.3.66->langchain) (4.14.1)\n",
      "Requirement already satisfied: jsonpointer>=1.9 in c:\\vishal\\langchain-101\\venv\\lib\\site-packages (from jsonpatch<2.0,>=1.33->langchain-core<1.0.0,>=0.3.66->langchain) (3.0.0)\n",
      "Requirement already satisfied: zstandard<0.24.0,>=0.23.0 in c:\\vishal\\langchain-101\\venv\\lib\\site-packages (from langsmith>=0.1.17->langchain) (0.23.0)\n",
      "Requirement already satisfied: orjson<4.0.0,>=3.9.14 in c:\\vishal\\langchain-101\\venv\\lib\\site-packages (from langsmith>=0.1.17->langchain) (3.10.18)\n",
      "Requirement already satisfied: httpx<1,>=0.23.0 in c:\\vishal\\langchain-101\\venv\\lib\\site-packages (from langsmith>=0.1.17->langchain) (0.28.1)\n",
      "Requirement already satisfied: requests-toolbelt<2.0.0,>=1.0.0 in c:\\vishal\\langchain-101\\venv\\lib\\site-packages (from langsmith>=0.1.17->langchain) (1.0.0)\n",
      "Requirement already satisfied: anyio in c:\\vishal\\langchain-101\\venv\\lib\\site-packages (from httpx<1,>=0.23.0->langsmith>=0.1.17->langchain) (4.9.0)\n",
      "Requirement already satisfied: httpcore==1.* in c:\\vishal\\langchain-101\\venv\\lib\\site-packages (from httpx<1,>=0.23.0->langsmith>=0.1.17->langchain) (1.0.9)\n",
      "Requirement already satisfied: idna in c:\\vishal\\langchain-101\\venv\\lib\\site-packages (from httpx<1,>=0.23.0->langsmith>=0.1.17->langchain) (3.10)\n",
      "Requirement already satisfied: certifi in c:\\vishal\\langchain-101\\venv\\lib\\site-packages (from httpx<1,>=0.23.0->langsmith>=0.1.17->langchain) (2025.6.15)\n",
      "Requirement already satisfied: h11>=0.16 in c:\\vishal\\langchain-101\\venv\\lib\\site-packages (from httpcore==1.*->httpx<1,>=0.23.0->langsmith>=0.1.17->langchain) (0.16.0)\n",
      "Requirement already satisfied: pydantic-core==2.33.2 in c:\\vishal\\langchain-101\\venv\\lib\\site-packages (from pydantic<3.0.0,>=2.7.4->langchain) (2.33.2)\n",
      "Requirement already satisfied: annotated-types>=0.6.0 in c:\\vishal\\langchain-101\\venv\\lib\\site-packages (from pydantic<3.0.0,>=2.7.4->langchain) (0.7.0)\n",
      "Requirement already satisfied: typing-inspection>=0.4.0 in c:\\vishal\\langchain-101\\venv\\lib\\site-packages (from pydantic<3.0.0,>=2.7.4->langchain) (0.4.1)\n",
      "Requirement already satisfied: urllib3<3,>=1.21.1 in c:\\vishal\\langchain-101\\venv\\lib\\site-packages (from requests<3,>=2->langchain) (2.5.0)\n",
      "Requirement already satisfied: charset_normalizer<4,>=2 in c:\\vishal\\langchain-101\\venv\\lib\\site-packages (from requests<3,>=2->langchain) (3.4.2)\n",
      "Requirement already satisfied: greenlet>=1 in c:\\vishal\\langchain-101\\venv\\lib\\site-packages (from SQLAlchemy<3,>=1.4->langchain) (3.2.3)\n",
      "Requirement already satisfied: exceptiongroup>=1.0.2 in c:\\vishal\\langchain-101\\venv\\lib\\site-packages (from anyio->httpx<1,>=0.23.0->langsmith>=0.1.17->langchain) (1.3.0)\n",
      "Requirement already satisfied: sniffio>=1.1 in c:\\vishal\\langchain-101\\venv\\lib\\site-packages (from anyio->httpx<1,>=0.23.0->langsmith>=0.1.17->langchain) (1.3.1)\n"
     ]
    },
    {
     "name": "stderr",
     "output_type": "stream",
     "text": [
      "WARNING: You are using pip version 21.2.3; however, version 25.1.1 is available.\n",
      "You should consider upgrading via the 'C:\\Vishal\\Langchain-101\\venv\\Scripts\\python.exe -m pip install --upgrade pip' command.\n"
     ]
    },
    {
     "name": "stdout",
     "output_type": "stream",
     "text": [
      "Requirement already satisfied: langchain-chroma in c:\\vishal\\langchain-101\\venv\\lib\\site-packages (0.2.4)\n",
      "Requirement already satisfied: chromadb>=1.0.9 in c:\\vishal\\langchain-101\\venv\\lib\\site-packages (from langchain-chroma) (1.0.15)\n",
      "Requirement already satisfied: langchain-core>=0.3.60 in c:\\vishal\\langchain-101\\venv\\lib\\site-packages (from langchain-chroma) (0.3.68)\n",
      "Requirement already satisfied: numpy>=1.26.0 in c:\\vishal\\langchain-101\\venv\\lib\\site-packages (from langchain-chroma) (2.2.6)\n",
      "Requirement already satisfied: opentelemetry-api>=1.2.0 in c:\\vishal\\langchain-101\\venv\\lib\\site-packages (from chromadb>=1.0.9->langchain-chroma) (1.34.1)\n",
      "Requirement already satisfied: pybase64>=1.4.1 in c:\\vishal\\langchain-101\\venv\\lib\\site-packages (from chromadb>=1.0.9->langchain-chroma) (1.4.1)\n",
      "Requirement already satisfied: tokenizers>=0.13.2 in c:\\vishal\\langchain-101\\venv\\lib\\site-packages (from chromadb>=1.0.9->langchain-chroma) (0.21.2)\n",
      "Requirement already satisfied: overrides>=7.3.1 in c:\\vishal\\langchain-101\\venv\\lib\\site-packages (from chromadb>=1.0.9->langchain-chroma) (7.7.0)\n",
      "Requirement already satisfied: jsonschema>=4.19.0 in c:\\vishal\\langchain-101\\venv\\lib\\site-packages (from chromadb>=1.0.9->langchain-chroma) (4.24.0)\n",
      "Requirement already satisfied: typer>=0.9.0 in c:\\vishal\\langchain-101\\venv\\lib\\site-packages (from chromadb>=1.0.9->langchain-chroma) (0.16.0)\n",
      "Requirement already satisfied: pypika>=0.48.9 in c:\\vishal\\langchain-101\\venv\\lib\\site-packages (from chromadb>=1.0.9->langchain-chroma) (0.48.9)\n",
      "Requirement already satisfied: pyyaml>=6.0.0 in c:\\vishal\\langchain-101\\venv\\lib\\site-packages (from chromadb>=1.0.9->langchain-chroma) (6.0.2)\n",
      "Requirement already satisfied: opentelemetry-sdk>=1.2.0 in c:\\vishal\\langchain-101\\venv\\lib\\site-packages (from chromadb>=1.0.9->langchain-chroma) (1.34.1)\n",
      "Requirement already satisfied: pydantic>=1.9 in c:\\vishal\\langchain-101\\venv\\lib\\site-packages (from chromadb>=1.0.9->langchain-chroma) (2.11.7)\n",
      "Requirement already satisfied: tenacity>=8.2.3 in c:\\vishal\\langchain-101\\venv\\lib\\site-packages (from chromadb>=1.0.9->langchain-chroma) (9.1.2)\n",
      "Requirement already satisfied: orjson>=3.9.12 in c:\\vishal\\langchain-101\\venv\\lib\\site-packages (from chromadb>=1.0.9->langchain-chroma) (3.10.18)\n",
      "Requirement already satisfied: rich>=10.11.0 in c:\\vishal\\langchain-101\\venv\\lib\\site-packages (from chromadb>=1.0.9->langchain-chroma) (14.0.0)\n",
      "Requirement already satisfied: uvicorn[standard]>=0.18.3 in c:\\vishal\\langchain-101\\venv\\lib\\site-packages (from chromadb>=1.0.9->langchain-chroma) (0.35.0)\n",
      "Requirement already satisfied: onnxruntime>=1.14.1 in c:\\vishal\\langchain-101\\venv\\lib\\site-packages (from chromadb>=1.0.9->langchain-chroma) (1.22.0)\n",
      "Requirement already satisfied: kubernetes>=28.1.0 in c:\\vishal\\langchain-101\\venv\\lib\\site-packages (from chromadb>=1.0.9->langchain-chroma) (33.1.0)\n",
      "Requirement already satisfied: build>=1.0.3 in c:\\vishal\\langchain-101\\venv\\lib\\site-packages (from chromadb>=1.0.9->langchain-chroma) (1.2.2.post1)\n",
      "Requirement already satisfied: opentelemetry-exporter-otlp-proto-grpc>=1.2.0 in c:\\vishal\\langchain-101\\venv\\lib\\site-packages (from chromadb>=1.0.9->langchain-chroma) (1.34.1)\n",
      "Requirement already satisfied: tqdm>=4.65.0 in c:\\vishal\\langchain-101\\venv\\lib\\site-packages (from chromadb>=1.0.9->langchain-chroma) (4.67.1)\n",
      "Requirement already satisfied: bcrypt>=4.0.1 in c:\\vishal\\langchain-101\\venv\\lib\\site-packages (from chromadb>=1.0.9->langchain-chroma) (4.3.0)\n",
      "Requirement already satisfied: httpx>=0.27.0 in c:\\vishal\\langchain-101\\venv\\lib\\site-packages (from chromadb>=1.0.9->langchain-chroma) (0.28.1)\n",
      "Requirement already satisfied: grpcio>=1.58.0 in c:\\vishal\\langchain-101\\venv\\lib\\site-packages (from chromadb>=1.0.9->langchain-chroma) (1.73.1)\n",
      "Requirement already satisfied: importlib-resources in c:\\vishal\\langchain-101\\venv\\lib\\site-packages (from chromadb>=1.0.9->langchain-chroma) (6.5.2)\n",
      "Requirement already satisfied: mmh3>=4.0.1 in c:\\vishal\\langchain-101\\venv\\lib\\site-packages (from chromadb>=1.0.9->langchain-chroma) (5.1.0)\n",
      "Requirement already satisfied: posthog<6.0.0,>=2.4.0 in c:\\vishal\\langchain-101\\venv\\lib\\site-packages (from chromadb>=1.0.9->langchain-chroma) (5.4.0)\n",
      "Requirement already satisfied: typing-extensions>=4.5.0 in c:\\vishal\\langchain-101\\venv\\lib\\site-packages (from chromadb>=1.0.9->langchain-chroma) (4.14.1)\n",
      "Requirement already satisfied: colorama in c:\\vishal\\langchain-101\\venv\\lib\\site-packages (from build>=1.0.3->chromadb>=1.0.9->langchain-chroma) (0.4.6)\n",
      "Requirement already satisfied: tomli>=1.1.0 in c:\\vishal\\langchain-101\\venv\\lib\\site-packages (from build>=1.0.3->chromadb>=1.0.9->langchain-chroma) (2.2.1)\n",
      "Requirement already satisfied: packaging>=19.1 in c:\\vishal\\langchain-101\\venv\\lib\\site-packages (from build>=1.0.3->chromadb>=1.0.9->langchain-chroma) (24.2)\n",
      "Requirement already satisfied: pyproject_hooks in c:\\vishal\\langchain-101\\venv\\lib\\site-packages (from build>=1.0.3->chromadb>=1.0.9->langchain-chroma) (1.2.0)\n",
      "Requirement already satisfied: httpcore==1.* in c:\\vishal\\langchain-101\\venv\\lib\\site-packages (from httpx>=0.27.0->chromadb>=1.0.9->langchain-chroma) (1.0.9)\n",
      "Requirement already satisfied: certifi in c:\\vishal\\langchain-101\\venv\\lib\\site-packages (from httpx>=0.27.0->chromadb>=1.0.9->langchain-chroma) (2025.6.15)\n",
      "Requirement already satisfied: idna in c:\\vishal\\langchain-101\\venv\\lib\\site-packages (from httpx>=0.27.0->chromadb>=1.0.9->langchain-chroma) (3.10)\n",
      "Requirement already satisfied: anyio in c:\\vishal\\langchain-101\\venv\\lib\\site-packages (from httpx>=0.27.0->chromadb>=1.0.9->langchain-chroma) (4.9.0)\n",
      "Requirement already satisfied: h11>=0.16 in c:\\vishal\\langchain-101\\venv\\lib\\site-packages (from httpcore==1.*->httpx>=0.27.0->chromadb>=1.0.9->langchain-chroma) (0.16.0)\n",
      "Requirement already satisfied: attrs>=22.2.0 in c:\\vishal\\langchain-101\\venv\\lib\\site-packages (from jsonschema>=4.19.0->chromadb>=1.0.9->langchain-chroma) (25.3.0)\n",
      "Requirement already satisfied: jsonschema-specifications>=2023.03.6 in c:\\vishal\\langchain-101\\venv\\lib\\site-packages (from jsonschema>=4.19.0->chromadb>=1.0.9->langchain-chroma) (2025.4.1)\n",
      "Requirement already satisfied: rpds-py>=0.7.1 in c:\\vishal\\langchain-101\\venv\\lib\\site-packages (from jsonschema>=4.19.0->chromadb>=1.0.9->langchain-chroma) (0.26.0)\n",
      "Requirement already satisfied: referencing>=0.28.4 in c:\\vishal\\langchain-101\\venv\\lib\\site-packages (from jsonschema>=4.19.0->chromadb>=1.0.9->langchain-chroma) (0.36.2)\n",
      "Requirement already satisfied: websocket-client!=0.40.0,!=0.41.*,!=0.42.*,>=0.32.0 in c:\\vishal\\langchain-101\\venv\\lib\\site-packages (from kubernetes>=28.1.0->chromadb>=1.0.9->langchain-chroma) (1.8.0)\n",
      "Requirement already satisfied: google-auth>=1.0.1 in c:\\vishal\\langchain-101\\venv\\lib\\site-packages (from kubernetes>=28.1.0->chromadb>=1.0.9->langchain-chroma) (2.40.3)\n",
      "Requirement already satisfied: six>=1.9.0 in c:\\vishal\\langchain-101\\venv\\lib\\site-packages (from kubernetes>=28.1.0->chromadb>=1.0.9->langchain-chroma) (1.17.0)\n",
      "Requirement already satisfied: oauthlib>=3.2.2 in c:\\vishal\\langchain-101\\venv\\lib\\site-packages (from kubernetes>=28.1.0->chromadb>=1.0.9->langchain-chroma) (3.3.1)\n",
      "Requirement already satisfied: urllib3>=1.24.2 in c:\\vishal\\langchain-101\\venv\\lib\\site-packages (from kubernetes>=28.1.0->chromadb>=1.0.9->langchain-chroma) (2.5.0)\n",
      "Requirement already satisfied: durationpy>=0.7 in c:\\vishal\\langchain-101\\venv\\lib\\site-packages (from kubernetes>=28.1.0->chromadb>=1.0.9->langchain-chroma) (0.10)\n",
      "Requirement already satisfied: requests in c:\\vishal\\langchain-101\\venv\\lib\\site-packages (from kubernetes>=28.1.0->chromadb>=1.0.9->langchain-chroma) (2.32.4)\n",
      "Requirement already satisfied: requests-oauthlib in c:\\vishal\\langchain-101\\venv\\lib\\site-packages (from kubernetes>=28.1.0->chromadb>=1.0.9->langchain-chroma) (2.0.0)\n",
      "Requirement already satisfied: python-dateutil>=2.5.3 in c:\\vishal\\langchain-101\\venv\\lib\\site-packages (from kubernetes>=28.1.0->chromadb>=1.0.9->langchain-chroma) (2.9.0.post0)\n",
      "Requirement already satisfied: cachetools<6.0,>=2.0.0 in c:\\vishal\\langchain-101\\venv\\lib\\site-packages (from google-auth>=1.0.1->kubernetes>=28.1.0->chromadb>=1.0.9->langchain-chroma) (5.5.2)\n",
      "Requirement already satisfied: pyasn1-modules>=0.2.1 in c:\\vishal\\langchain-101\\venv\\lib\\site-packages (from google-auth>=1.0.1->kubernetes>=28.1.0->chromadb>=1.0.9->langchain-chroma) (0.4.2)\n",
      "Requirement already satisfied: rsa<5,>=3.1.4 in c:\\vishal\\langchain-101\\venv\\lib\\site-packages (from google-auth>=1.0.1->kubernetes>=28.1.0->chromadb>=1.0.9->langchain-chroma) (4.9.1)\n",
      "Requirement already satisfied: langsmith>=0.3.45 in c:\\vishal\\langchain-101\\venv\\lib\\site-packages (from langchain-core>=0.3.60->langchain-chroma) (0.4.4)\n",
      "Requirement already satisfied: jsonpatch<2.0,>=1.33 in c:\\vishal\\langchain-101\\venv\\lib\\site-packages (from langchain-core>=0.3.60->langchain-chroma) (1.33)\n",
      "Requirement already satisfied: jsonpointer>=1.9 in c:\\vishal\\langchain-101\\venv\\lib\\site-packages (from jsonpatch<2.0,>=1.33->langchain-core>=0.3.60->langchain-chroma) (3.0.0)\n",
      "Requirement already satisfied: requests-toolbelt<2.0.0,>=1.0.0 in c:\\vishal\\langchain-101\\venv\\lib\\site-packages (from langsmith>=0.3.45->langchain-core>=0.3.60->langchain-chroma) (1.0.0)\n",
      "Requirement already satisfied: zstandard<0.24.0,>=0.23.0 in c:\\vishal\\langchain-101\\venv\\lib\\site-packages (from langsmith>=0.3.45->langchain-core>=0.3.60->langchain-chroma) (0.23.0)\n",
      "Requirement already satisfied: flatbuffers in c:\\vishal\\langchain-101\\venv\\lib\\site-packages (from onnxruntime>=1.14.1->chromadb>=1.0.9->langchain-chroma) (25.2.10)\n",
      "Requirement already satisfied: coloredlogs in c:\\vishal\\langchain-101\\venv\\lib\\site-packages (from onnxruntime>=1.14.1->chromadb>=1.0.9->langchain-chroma) (15.0.1)\n",
      "Requirement already satisfied: sympy in c:\\vishal\\langchain-101\\venv\\lib\\site-packages (from onnxruntime>=1.14.1->chromadb>=1.0.9->langchain-chroma) (1.14.0)\n",
      "Requirement already satisfied: protobuf in c:\\vishal\\langchain-101\\venv\\lib\\site-packages (from onnxruntime>=1.14.1->chromadb>=1.0.9->langchain-chroma) (5.29.5)\n",
      "Requirement already satisfied: importlib-metadata<8.8.0,>=6.0 in c:\\vishal\\langchain-101\\venv\\lib\\site-packages (from opentelemetry-api>=1.2.0->chromadb>=1.0.9->langchain-chroma) (8.7.0)\n",
      "Requirement already satisfied: zipp>=3.20 in c:\\vishal\\langchain-101\\venv\\lib\\site-packages (from importlib-metadata<8.8.0,>=6.0->opentelemetry-api>=1.2.0->chromadb>=1.0.9->langchain-chroma) (3.23.0)\n",
      "Requirement already satisfied: opentelemetry-proto==1.34.1 in c:\\vishal\\langchain-101\\venv\\lib\\site-packages (from opentelemetry-exporter-otlp-proto-grpc>=1.2.0->chromadb>=1.0.9->langchain-chroma) (1.34.1)\n",
      "Requirement already satisfied: opentelemetry-exporter-otlp-proto-common==1.34.1 in c:\\vishal\\langchain-101\\venv\\lib\\site-packages (from opentelemetry-exporter-otlp-proto-grpc>=1.2.0->chromadb>=1.0.9->langchain-chroma) (1.34.1)\n",
      "Requirement already satisfied: googleapis-common-protos~=1.52 in c:\\vishal\\langchain-101\\venv\\lib\\site-packages (from opentelemetry-exporter-otlp-proto-grpc>=1.2.0->chromadb>=1.0.9->langchain-chroma) (1.70.0)\n",
      "Requirement already satisfied: opentelemetry-semantic-conventions==0.55b1 in c:\\vishal\\langchain-101\\venv\\lib\\site-packages (from opentelemetry-sdk>=1.2.0->chromadb>=1.0.9->langchain-chroma) (0.55b1)\n",
      "Requirement already satisfied: backoff>=1.10.0 in c:\\vishal\\langchain-101\\venv\\lib\\site-packages (from posthog<6.0.0,>=2.4.0->chromadb>=1.0.9->langchain-chroma) (2.2.1)\n",
      "Requirement already satisfied: distro>=1.5.0 in c:\\vishal\\langchain-101\\venv\\lib\\site-packages (from posthog<6.0.0,>=2.4.0->chromadb>=1.0.9->langchain-chroma) (1.9.0)\n",
      "Requirement already satisfied: pyasn1<0.7.0,>=0.6.1 in c:\\vishal\\langchain-101\\venv\\lib\\site-packages (from pyasn1-modules>=0.2.1->google-auth>=1.0.1->kubernetes>=28.1.0->chromadb>=1.0.9->langchain-chroma) (0.6.1)\n",
      "Requirement already satisfied: annotated-types>=0.6.0 in c:\\vishal\\langchain-101\\venv\\lib\\site-packages (from pydantic>=1.9->chromadb>=1.0.9->langchain-chroma) (0.7.0)\n",
      "Requirement already satisfied: typing-inspection>=0.4.0 in c:\\vishal\\langchain-101\\venv\\lib\\site-packages (from pydantic>=1.9->chromadb>=1.0.9->langchain-chroma) (0.4.1)\n",
      "Requirement already satisfied: pydantic-core==2.33.2 in c:\\vishal\\langchain-101\\venv\\lib\\site-packages (from pydantic>=1.9->chromadb>=1.0.9->langchain-chroma) (2.33.2)\n",
      "Requirement already satisfied: charset_normalizer<4,>=2 in c:\\vishal\\langchain-101\\venv\\lib\\site-packages (from requests->kubernetes>=28.1.0->chromadb>=1.0.9->langchain-chroma) (3.4.2)\n",
      "Requirement already satisfied: markdown-it-py>=2.2.0 in c:\\vishal\\langchain-101\\venv\\lib\\site-packages (from rich>=10.11.0->chromadb>=1.0.9->langchain-chroma) (3.0.0)\n",
      "Requirement already satisfied: pygments<3.0.0,>=2.13.0 in c:\\vishal\\langchain-101\\venv\\lib\\site-packages (from rich>=10.11.0->chromadb>=1.0.9->langchain-chroma) (2.19.2)\n",
      "Requirement already satisfied: mdurl~=0.1 in c:\\vishal\\langchain-101\\venv\\lib\\site-packages (from markdown-it-py>=2.2.0->rich>=10.11.0->chromadb>=1.0.9->langchain-chroma) (0.1.2)\n",
      "Requirement already satisfied: huggingface-hub<1.0,>=0.16.4 in c:\\vishal\\langchain-101\\venv\\lib\\site-packages (from tokenizers>=0.13.2->chromadb>=1.0.9->langchain-chroma) (0.33.2)\n",
      "Requirement already satisfied: filelock in c:\\vishal\\langchain-101\\venv\\lib\\site-packages (from huggingface-hub<1.0,>=0.16.4->tokenizers>=0.13.2->chromadb>=1.0.9->langchain-chroma) (3.18.0)\n",
      "Requirement already satisfied: fsspec>=2023.5.0 in c:\\vishal\\langchain-101\\venv\\lib\\site-packages (from huggingface-hub<1.0,>=0.16.4->tokenizers>=0.13.2->chromadb>=1.0.9->langchain-chroma) (2025.5.1)\n",
      "Requirement already satisfied: click>=8.0.0 in c:\\vishal\\langchain-101\\venv\\lib\\site-packages (from typer>=0.9.0->chromadb>=1.0.9->langchain-chroma) (8.2.1)\n",
      "Requirement already satisfied: shellingham>=1.3.0 in c:\\vishal\\langchain-101\\venv\\lib\\site-packages (from typer>=0.9.0->chromadb>=1.0.9->langchain-chroma) (1.5.4)\n",
      "Requirement already satisfied: python-dotenv>=0.13 in c:\\vishal\\langchain-101\\venv\\lib\\site-packages (from uvicorn[standard]>=0.18.3->chromadb>=1.0.9->langchain-chroma) (1.1.1)\n",
      "Requirement already satisfied: httptools>=0.6.3 in c:\\vishal\\langchain-101\\venv\\lib\\site-packages (from uvicorn[standard]>=0.18.3->chromadb>=1.0.9->langchain-chroma) (0.6.4)\n",
      "Requirement already satisfied: websockets>=10.4 in c:\\vishal\\langchain-101\\venv\\lib\\site-packages (from uvicorn[standard]>=0.18.3->chromadb>=1.0.9->langchain-chroma) (15.0.1)\n",
      "Requirement already satisfied: watchfiles>=0.13 in c:\\vishal\\langchain-101\\venv\\lib\\site-packages (from uvicorn[standard]>=0.18.3->chromadb>=1.0.9->langchain-chroma) (1.1.0)\n",
      "Requirement already satisfied: exceptiongroup>=1.0.2 in c:\\vishal\\langchain-101\\venv\\lib\\site-packages (from anyio->httpx>=0.27.0->chromadb>=1.0.9->langchain-chroma) (1.3.0)\n",
      "Requirement already satisfied: sniffio>=1.1 in c:\\vishal\\langchain-101\\venv\\lib\\site-packages (from anyio->httpx>=0.27.0->chromadb>=1.0.9->langchain-chroma) (1.3.1)\n",
      "Requirement already satisfied: humanfriendly>=9.1 in c:\\vishal\\langchain-101\\venv\\lib\\site-packages (from coloredlogs->onnxruntime>=1.14.1->chromadb>=1.0.9->langchain-chroma) (10.0)\n",
      "Requirement already satisfied: pyreadline3 in c:\\vishal\\langchain-101\\venv\\lib\\site-packages (from humanfriendly>=9.1->coloredlogs->onnxruntime>=1.14.1->chromadb>=1.0.9->langchain-chroma) (3.5.4)\n",
      "Requirement already satisfied: mpmath<1.4,>=1.1.0 in c:\\vishal\\langchain-101\\venv\\lib\\site-packages (from sympy->onnxruntime>=1.14.1->chromadb>=1.0.9->langchain-chroma) (1.3.0)\n"
     ]
    },
    {
     "name": "stderr",
     "output_type": "stream",
     "text": [
      "WARNING: You are using pip version 21.2.3; however, version 25.1.1 is available.\n",
      "You should consider upgrading via the 'C:\\Vishal\\Langchain-101\\venv\\Scripts\\python.exe -m pip install --upgrade pip' command.\n"
     ]
    },
    {
     "name": "stdout",
     "output_type": "stream",
     "text": [
      "Requirement already satisfied: langchain-groq in c:\\vishal\\langchain-101\\venv\\lib\\site-packages (0.3.5)\n",
      "Requirement already satisfied: groq<1,>=0.29.0 in c:\\vishal\\langchain-101\\venv\\lib\\site-packages (from langchain-groq) (0.29.0)\n",
      "Requirement already satisfied: langchain-core<1.0.0,>=0.3.67 in c:\\vishal\\langchain-101\\venv\\lib\\site-packages (from langchain-groq) (0.3.68)\n",
      "Requirement already satisfied: typing-extensions<5,>=4.10 in c:\\vishal\\langchain-101\\venv\\lib\\site-packages (from groq<1,>=0.29.0->langchain-groq) (4.14.1)\n",
      "Requirement already satisfied: sniffio in c:\\vishal\\langchain-101\\venv\\lib\\site-packages (from groq<1,>=0.29.0->langchain-groq) (1.3.1)\n",
      "Requirement already satisfied: httpx<1,>=0.23.0 in c:\\vishal\\langchain-101\\venv\\lib\\site-packages (from groq<1,>=0.29.0->langchain-groq) (0.28.1)\n",
      "Requirement already satisfied: pydantic<3,>=1.9.0 in c:\\vishal\\langchain-101\\venv\\lib\\site-packages (from groq<1,>=0.29.0->langchain-groq) (2.11.7)\n",
      "Requirement already satisfied: distro<2,>=1.7.0 in c:\\vishal\\langchain-101\\venv\\lib\\site-packages (from groq<1,>=0.29.0->langchain-groq) (1.9.0)\n",
      "Requirement already satisfied: anyio<5,>=3.5.0 in c:\\vishal\\langchain-101\\venv\\lib\\site-packages (from groq<1,>=0.29.0->langchain-groq) (4.9.0)\n",
      "Requirement already satisfied: exceptiongroup>=1.0.2 in c:\\vishal\\langchain-101\\venv\\lib\\site-packages (from anyio<5,>=3.5.0->groq<1,>=0.29.0->langchain-groq) (1.3.0)\n",
      "Requirement already satisfied: idna>=2.8 in c:\\vishal\\langchain-101\\venv\\lib\\site-packages (from anyio<5,>=3.5.0->groq<1,>=0.29.0->langchain-groq) (3.10)\n",
      "Requirement already satisfied: certifi in c:\\vishal\\langchain-101\\venv\\lib\\site-packages (from httpx<1,>=0.23.0->groq<1,>=0.29.0->langchain-groq) (2025.6.15)\n",
      "Requirement already satisfied: httpcore==1.* in c:\\vishal\\langchain-101\\venv\\lib\\site-packages (from httpx<1,>=0.23.0->groq<1,>=0.29.0->langchain-groq) (1.0.9)\n",
      "Requirement already satisfied: h11>=0.16 in c:\\vishal\\langchain-101\\venv\\lib\\site-packages (from httpcore==1.*->httpx<1,>=0.23.0->groq<1,>=0.29.0->langchain-groq) (0.16.0)\n",
      "Requirement already satisfied: jsonpatch<2.0,>=1.33 in c:\\vishal\\langchain-101\\venv\\lib\\site-packages (from langchain-core<1.0.0,>=0.3.67->langchain-groq) (1.33)\n",
      "Requirement already satisfied: PyYAML>=5.3 in c:\\vishal\\langchain-101\\venv\\lib\\site-packages (from langchain-core<1.0.0,>=0.3.67->langchain-groq) (6.0.2)\n",
      "Requirement already satisfied: tenacity!=8.4.0,<10.0.0,>=8.1.0 in c:\\vishal\\langchain-101\\venv\\lib\\site-packages (from langchain-core<1.0.0,>=0.3.67->langchain-groq) (9.1.2)\n",
      "Requirement already satisfied: langsmith>=0.3.45 in c:\\vishal\\langchain-101\\venv\\lib\\site-packages (from langchain-core<1.0.0,>=0.3.67->langchain-groq) (0.4.4)\n",
      "Requirement already satisfied: packaging<25,>=23.2 in c:\\vishal\\langchain-101\\venv\\lib\\site-packages (from langchain-core<1.0.0,>=0.3.67->langchain-groq) (24.2)\n",
      "Requirement already satisfied: jsonpointer>=1.9 in c:\\vishal\\langchain-101\\venv\\lib\\site-packages (from jsonpatch<2.0,>=1.33->langchain-core<1.0.0,>=0.3.67->langchain-groq) (3.0.0)\n",
      "Requirement already satisfied: orjson<4.0.0,>=3.9.14 in c:\\vishal\\langchain-101\\venv\\lib\\site-packages (from langsmith>=0.3.45->langchain-core<1.0.0,>=0.3.67->langchain-groq) (3.10.18)\n",
      "Requirement already satisfied: requests-toolbelt<2.0.0,>=1.0.0 in c:\\vishal\\langchain-101\\venv\\lib\\site-packages (from langsmith>=0.3.45->langchain-core<1.0.0,>=0.3.67->langchain-groq) (1.0.0)\n",
      "Requirement already satisfied: zstandard<0.24.0,>=0.23.0 in c:\\vishal\\langchain-101\\venv\\lib\\site-packages (from langsmith>=0.3.45->langchain-core<1.0.0,>=0.3.67->langchain-groq) (0.23.0)\n",
      "Requirement already satisfied: requests<3,>=2 in c:\\vishal\\langchain-101\\venv\\lib\\site-packages (from langsmith>=0.3.45->langchain-core<1.0.0,>=0.3.67->langchain-groq) (2.32.4)\n",
      "Requirement already satisfied: annotated-types>=0.6.0 in c:\\vishal\\langchain-101\\venv\\lib\\site-packages (from pydantic<3,>=1.9.0->groq<1,>=0.29.0->langchain-groq) (0.7.0)\n",
      "Requirement already satisfied: typing-inspection>=0.4.0 in c:\\vishal\\langchain-101\\venv\\lib\\site-packages (from pydantic<3,>=1.9.0->groq<1,>=0.29.0->langchain-groq) (0.4.1)\n",
      "Requirement already satisfied: pydantic-core==2.33.2 in c:\\vishal\\langchain-101\\venv\\lib\\site-packages (from pydantic<3,>=1.9.0->groq<1,>=0.29.0->langchain-groq) (2.33.2)\n",
      "Requirement already satisfied: urllib3<3,>=1.21.1 in c:\\vishal\\langchain-101\\venv\\lib\\site-packages (from requests<3,>=2->langsmith>=0.3.45->langchain-core<1.0.0,>=0.3.67->langchain-groq) (2.5.0)\n",
      "Requirement already satisfied: charset_normalizer<4,>=2 in c:\\vishal\\langchain-101\\venv\\lib\\site-packages (from requests<3,>=2->langsmith>=0.3.45->langchain-core<1.0.0,>=0.3.67->langchain-groq) (3.4.2)\n"
     ]
    },
    {
     "name": "stderr",
     "output_type": "stream",
     "text": [
      "WARNING: You are using pip version 21.2.3; however, version 25.1.1 is available.\n",
      "You should consider upgrading via the 'C:\\Vishal\\Langchain-101\\venv\\Scripts\\python.exe -m pip install --upgrade pip' command.\n"
     ]
    }
   ],
   "source": [
    "!pip install langchain\n",
    "!pip install langchain-chroma\n",
    "!pip install langchain-groq"
   ]
  },
  {
   "cell_type": "markdown",
   "id": "a09cf003",
   "metadata": {},
   "source": [
    "### Documents\n",
    "LangChain implements a Document abstraction, which is intended to represent a unit of text and associated metadata. It has two attributes:\n",
    "\n",
    "- page_content: a string representing the content;\n",
    "- metadata: a dict containing arbitrary metadata.\n",
    "The metadata attribute can capture information about the source of the document, its relationship to other documents, and other information. Note that an individual Document object often represents a chunk of a larger document.\n",
    "\n",
    "Let's generate some sample documents:"
   ]
  },
  {
   "cell_type": "code",
   "execution_count": 1,
   "id": "211f5b6e",
   "metadata": {},
   "outputs": [],
   "source": [
    "from langchain_core.documents import Document\n",
    "\n",
    "document = [\n",
    "    Document(page_content=\"Dogs are great companions, known for their loyalty and friendliness.\",\n",
    "             metadata={\"source\": \"mammal-pets-doc\"}),\n",
    "    Document(page_content=\"Cats are independent animals, often appreciated for their playful nature.\",\n",
    "             metadata={\"source\": \"mammal-pets-doc\"}),\n",
    "    Document(page_content=\"Birds can be colorful and are often kept as pets for their singing abilities.\",\n",
    "             metadata={\"source\": \"bird-pets-doc\"}),\n",
    "    Document(page_content=\"Fish are low-maintenance pets, often kept in aquariums for their calming presence.\",\n",
    "             metadata={\"source\": \"fish-pets-doc\"}),\n",
    "    Document(page_content=\"Reptiles, such as snakes and lizards, are unique pets that require specific care.\",\n",
    "             metadata={\"source\": \"reptile-pets-doc\"}),\n",
    "    Document(page_content=\"Hamsters are small rodents that are popular as pets, especially for children.\",\n",
    "             metadata={\"source\": \"rodent-pets-doc\"}),\n",
    "    Document(page_content=\"Rabbits are gentle animals that can be kept indoors or outdoors, known for their soft fur.\",\n",
    "             metadata={\"source\": \"mammal-pets-doc\"}),   \n",
    "]"
   ]
  },
  {
   "cell_type": "code",
   "execution_count": 2,
   "id": "05ad41c7",
   "metadata": {},
   "outputs": [
    {
     "data": {
      "text/plain": [
       "[Document(metadata={'source': 'mammal-pets-doc'}, page_content='Dogs are great companions, known for their loyalty and friendliness.'),\n",
       " Document(metadata={'source': 'mammal-pets-doc'}, page_content='Cats are independent animals, often appreciated for their playful nature.'),\n",
       " Document(metadata={'source': 'bird-pets-doc'}, page_content='Birds can be colorful and are often kept as pets for their singing abilities.'),\n",
       " Document(metadata={'source': 'fish-pets-doc'}, page_content='Fish are low-maintenance pets, often kept in aquariums for their calming presence.'),\n",
       " Document(metadata={'source': 'reptile-pets-doc'}, page_content='Reptiles, such as snakes and lizards, are unique pets that require specific care.'),\n",
       " Document(metadata={'source': 'rodent-pets-doc'}, page_content='Hamsters are small rodents that are popular as pets, especially for children.'),\n",
       " Document(metadata={'source': 'mammal-pets-doc'}, page_content='Rabbits are gentle animals that can be kept indoors or outdoors, known for their soft fur.')]"
      ]
     },
     "execution_count": 2,
     "metadata": {},
     "output_type": "execute_result"
    }
   ],
   "source": [
    "document"
   ]
  },
  {
   "cell_type": "code",
   "execution_count": null,
   "id": "7162f949",
   "metadata": {},
   "outputs": [],
   "source": [
    "import os\n",
    "from dotenv import load_dotenv\n",
    "load_dotenv()\n",
    "qroq_api_key = os.getenv(\"GROQ_API_KEY\")\n",
    "\n",
    "os.environ[\"HF_TOKEN\"] = os.getenv(\"HF_TOKEN\")"
   ]
  },
  {
   "cell_type": "code",
   "execution_count": null,
   "id": "7e7b5d81",
   "metadata": {},
   "outputs": [],
   "source": [
    "## VectorStores\n",
    "from langchain_chroma import Chroma\n"
   ]
  }
 ],
 "metadata": {
  "kernelspec": {
   "display_name": "venv",
   "language": "python",
   "name": "python3"
  },
  "language_info": {
   "codemirror_mode": {
    "name": "ipython",
    "version": 3
   },
   "file_extension": ".py",
   "mimetype": "text/x-python",
   "name": "python",
   "nbconvert_exporter": "python",
   "pygments_lexer": "ipython3",
   "version": "3.10.0"
  }
 },
 "nbformat": 4,
 "nbformat_minor": 5
}
